{
 "cells": [
  {
   "cell_type": "code",
   "execution_count": null,
   "id": "d82e1564",
   "metadata": {},
   "outputs": [],
   "source": []
  },
  {
   "cell_type": "code",
   "execution_count": 51,
   "id": "39fb1e6d",
   "metadata": {},
   "outputs": [],
   "source": [
    "import numpy as np\n",
    "import pandas as pd\n",
    "import time\n",
    "import datetime\n",
    "import plotly.express as px\n",
    "from dash import Dash, dcc, html, Input, Output"
   ]
  },
  {
   "cell_type": "code",
   "execution_count": 52,
   "id": "c4a2911c",
   "metadata": {},
   "outputs": [],
   "source": [
    "# ! pip freeze > requirements.txt\n",
    "# ! pip list --format=freeze > requirements.txt"
   ]
  },
  {
   "cell_type": "code",
   "execution_count": null,
   "id": "3c022d50",
   "metadata": {},
   "outputs": [],
   "source": []
  },
  {
   "cell_type": "code",
   "execution_count": 53,
   "id": "e077cc05",
   "metadata": {
    "scrolled": true
   },
   "outputs": [
    {
     "data": {
      "text/html": [
       "<div>\n",
       "<style scoped>\n",
       "    .dataframe tbody tr th:only-of-type {\n",
       "        vertical-align: middle;\n",
       "    }\n",
       "\n",
       "    .dataframe tbody tr th {\n",
       "        vertical-align: top;\n",
       "    }\n",
       "\n",
       "    .dataframe thead th {\n",
       "        text-align: right;\n",
       "    }\n",
       "</style>\n",
       "<table border=\"1\" class=\"dataframe\">\n",
       "  <thead>\n",
       "    <tr style=\"text-align: right;\">\n",
       "      <th></th>\n",
       "      <th>Review_Rating</th>\n",
       "      <th>ABV</th>\n",
       "      <th>Name</th>\n",
       "      <th>Style</th>\n",
       "    </tr>\n",
       "  </thead>\n",
       "  <tbody>\n",
       "    <tr>\n",
       "      <th>0</th>\n",
       "      <td>4.0</td>\n",
       "      <td>5.0</td>\n",
       "      <td>Leatherlips IPA</td>\n",
       "      <td>American IPA</td>\n",
       "    </tr>\n",
       "    <tr>\n",
       "      <th>1</th>\n",
       "      <td>2.5</td>\n",
       "      <td>9.3</td>\n",
       "      <td>Terrapin Hoptaneous Combustion</td>\n",
       "      <td>American Double / Imperial IPA</td>\n",
       "    </tr>\n",
       "    <tr>\n",
       "      <th>2</th>\n",
       "      <td>4.5</td>\n",
       "      <td>5.8</td>\n",
       "      <td>Great Lakes Edmund Fitzgerald Porter</td>\n",
       "      <td>American Porter</td>\n",
       "    </tr>\n",
       "    <tr>\n",
       "      <th>3</th>\n",
       "      <td>3.5</td>\n",
       "      <td>9.0</td>\n",
       "      <td>Imperial Stout</td>\n",
       "      <td>Russian Imperial Stout</td>\n",
       "    </tr>\n",
       "    <tr>\n",
       "      <th>4</th>\n",
       "      <td>4.5</td>\n",
       "      <td>5.5</td>\n",
       "      <td>Red Brick Pale Ale</td>\n",
       "      <td>American Pale Ale (APA)</td>\n",
       "    </tr>\n",
       "  </tbody>\n",
       "</table>\n",
       "</div>"
      ],
      "text/plain": [
       "   Review_Rating  ABV                                  Name  \\\n",
       "0            4.0  5.0                       Leatherlips IPA   \n",
       "1            2.5  9.3        Terrapin Hoptaneous Combustion   \n",
       "2            4.5  5.8  Great Lakes Edmund Fitzgerald Porter   \n",
       "3            3.5  9.0                        Imperial Stout   \n",
       "4            4.5  5.5                    Red Brick Pale Ale   \n",
       "\n",
       "                            Style  \n",
       "0                    American IPA  \n",
       "1  American Double / Imperial IPA  \n",
       "2                 American Porter  \n",
       "3          Russian Imperial Stout  \n",
       "4         American Pale Ale (APA)  "
      ]
     },
     "execution_count": 53,
     "metadata": {},
     "output_type": "execute_result"
    }
   ],
   "source": [
    "df = pd.read_csv(\"reviews1.csv\",dtype={\"beer_style\": str})\n",
    "df.drop(df.columns[[0]], axis=1, inplace=True)\n",
    "df.head()"
   ]
  },
  {
   "cell_type": "code",
   "execution_count": 54,
   "id": "f4e8ac4d",
   "metadata": {},
   "outputs": [
    {
     "name": "stdout",
     "output_type": "stream",
     "text": [
      "there are 20000 beers being reviewed in this dataset\n"
     ]
    }
   ],
   "source": [
    "print('there are {} beers being reviewed in this dataset'.format(df.size))"
   ]
  },
  {
   "cell_type": "code",
   "execution_count": 55,
   "id": "79ffcfe6",
   "metadata": {},
   "outputs": [],
   "source": [
    "df2 = pd.DataFrame(df)"
   ]
  },
  {
   "cell_type": "code",
   "execution_count": 56,
   "id": "8575889b",
   "metadata": {},
   "outputs": [],
   "source": [
    "# def convert(time):\n",
    "#     time_formatted = datetime.datetime.fromtimestamp(time).strftime('%Y-%m-%d')\n",
    "#     return time_formatted"
   ]
  },
  {
   "cell_type": "code",
   "execution_count": 57,
   "id": "2f5c154e",
   "metadata": {},
   "outputs": [],
   "source": [
    "# time = []\n",
    "# for epoch in df.review_time:\n",
    "# #     print(epoch)\n",
    "#     time.append(convert(int(epoch)))\n",
    "# df2[\"review_time\"] = time"
   ]
  },
  {
   "cell_type": "code",
   "execution_count": 58,
   "id": "8ab76e4f",
   "metadata": {},
   "outputs": [
    {
     "data": {
      "text/html": [
       "<div>\n",
       "<style scoped>\n",
       "    .dataframe tbody tr th:only-of-type {\n",
       "        vertical-align: middle;\n",
       "    }\n",
       "\n",
       "    .dataframe tbody tr th {\n",
       "        vertical-align: top;\n",
       "    }\n",
       "\n",
       "    .dataframe thead th {\n",
       "        text-align: right;\n",
       "    }\n",
       "</style>\n",
       "<table border=\"1\" class=\"dataframe\">\n",
       "  <thead>\n",
       "    <tr style=\"text-align: right;\">\n",
       "      <th></th>\n",
       "      <th>Review_Rating</th>\n",
       "      <th>ABV</th>\n",
       "      <th>Name</th>\n",
       "      <th>Style</th>\n",
       "    </tr>\n",
       "  </thead>\n",
       "  <tbody>\n",
       "    <tr>\n",
       "      <th>0</th>\n",
       "      <td>4.0</td>\n",
       "      <td>5.0</td>\n",
       "      <td>Leatherlips IPA</td>\n",
       "      <td>American IPA</td>\n",
       "    </tr>\n",
       "    <tr>\n",
       "      <th>1</th>\n",
       "      <td>2.5</td>\n",
       "      <td>9.3</td>\n",
       "      <td>Terrapin Hoptaneous Combustion</td>\n",
       "      <td>American Double / Imperial IPA</td>\n",
       "    </tr>\n",
       "    <tr>\n",
       "      <th>2</th>\n",
       "      <td>4.5</td>\n",
       "      <td>5.8</td>\n",
       "      <td>Great Lakes Edmund Fitzgerald Porter</td>\n",
       "      <td>American Porter</td>\n",
       "    </tr>\n",
       "    <tr>\n",
       "      <th>3</th>\n",
       "      <td>3.5</td>\n",
       "      <td>9.0</td>\n",
       "      <td>Imperial Stout</td>\n",
       "      <td>Russian Imperial Stout</td>\n",
       "    </tr>\n",
       "    <tr>\n",
       "      <th>4</th>\n",
       "      <td>4.5</td>\n",
       "      <td>5.5</td>\n",
       "      <td>Red Brick Pale Ale</td>\n",
       "      <td>American Pale Ale (APA)</td>\n",
       "    </tr>\n",
       "  </tbody>\n",
       "</table>\n",
       "</div>"
      ],
      "text/plain": [
       "   Review_Rating  ABV                                  Name  \\\n",
       "0            4.0  5.0                       Leatherlips IPA   \n",
       "1            2.5  9.3        Terrapin Hoptaneous Combustion   \n",
       "2            4.5  5.8  Great Lakes Edmund Fitzgerald Porter   \n",
       "3            3.5  9.0                        Imperial Stout   \n",
       "4            4.5  5.5                    Red Brick Pale Ale   \n",
       "\n",
       "                            Style  \n",
       "0                    American IPA  \n",
       "1  American Double / Imperial IPA  \n",
       "2                 American Porter  \n",
       "3          Russian Imperial Stout  \n",
       "4         American Pale Ale (APA)  "
      ]
     },
     "execution_count": 58,
     "metadata": {},
     "output_type": "execute_result"
    }
   ],
   "source": [
    "df2.head()"
   ]
  },
  {
   "cell_type": "markdown",
   "id": "f9c4d0ff",
   "metadata": {},
   "source": [
    "# Sorting Average beer rating by beer type with at least 200 total reviews (Sampled down)\n",
    "**Grabbing the 10 most popular beer styles**"
   ]
  },
  {
   "cell_type": "code",
   "execution_count": 59,
   "id": "fb4c1aa6",
   "metadata": {},
   "outputs": [
    {
     "data": {
      "text/html": [
       "<div>\n",
       "<style scoped>\n",
       "    .dataframe tbody tr th:only-of-type {\n",
       "        vertical-align: middle;\n",
       "    }\n",
       "\n",
       "    .dataframe tbody tr th {\n",
       "        vertical-align: top;\n",
       "    }\n",
       "\n",
       "    .dataframe thead th {\n",
       "        text-align: right;\n",
       "    }\n",
       "</style>\n",
       "<table border=\"1\" class=\"dataframe\">\n",
       "  <thead>\n",
       "    <tr style=\"text-align: right;\">\n",
       "      <th></th>\n",
       "      <th>Style</th>\n",
       "    </tr>\n",
       "  </thead>\n",
       "  <tbody>\n",
       "    <tr>\n",
       "      <th>Saison / Farmhouse Ale</th>\n",
       "      <td>230</td>\n",
       "    </tr>\n",
       "    <tr>\n",
       "      <th>Fruit / Vegetable Beer</th>\n",
       "      <td>224</td>\n",
       "    </tr>\n",
       "    <tr>\n",
       "      <th>American Adjunct Lager</th>\n",
       "      <td>223</td>\n",
       "    </tr>\n",
       "    <tr>\n",
       "      <th>Tripel</th>\n",
       "      <td>198</td>\n",
       "    </tr>\n",
       "    <tr>\n",
       "      <th>Witbier</th>\n",
       "      <td>182</td>\n",
       "    </tr>\n",
       "  </tbody>\n",
       "</table>\n",
       "</div>"
      ],
      "text/plain": [
       "                        Style\n",
       "Saison / Farmhouse Ale    230\n",
       "Fruit / Vegetable Beer    224\n",
       "American Adjunct Lager    223\n",
       "Tripel                    198\n",
       "Witbier                   182"
      ]
     },
     "execution_count": 59,
     "metadata": {},
     "output_type": "execute_result"
    }
   ],
   "source": [
    "style_count = pd.DataFrame(df2['Style'].value_counts()[:20])\n",
    "style_count.tail()"
   ]
  },
  {
   "cell_type": "code",
   "execution_count": 60,
   "id": "10e9b850",
   "metadata": {},
   "outputs": [],
   "source": [
    "average_review_type = pd.pivot_table(data=df2, values=\"Review_Rating\", \n",
    "                      index=\"Style\",              \n",
    "                      aggfunc='mean'\n",
    "                     )\n",
    "average_review_type = average_review_type.sort_values(by='Review_Rating', ascending=False)\n",
    "average_review_type = average_review_type.head(10)"
   ]
  },
  {
   "cell_type": "code",
   "execution_count": 61,
   "id": "09775629",
   "metadata": {},
   "outputs": [
    {
     "data": {
      "text/html": [
       "<div>\n",
       "<style scoped>\n",
       "    .dataframe tbody tr th:only-of-type {\n",
       "        vertical-align: middle;\n",
       "    }\n",
       "\n",
       "    .dataframe tbody tr th {\n",
       "        vertical-align: top;\n",
       "    }\n",
       "\n",
       "    .dataframe thead th {\n",
       "        text-align: right;\n",
       "    }\n",
       "</style>\n",
       "<table border=\"1\" class=\"dataframe\">\n",
       "  <thead>\n",
       "    <tr style=\"text-align: right;\">\n",
       "      <th></th>\n",
       "      <th>Review_Rating</th>\n",
       "    </tr>\n",
       "    <tr>\n",
       "      <th>Style</th>\n",
       "      <th></th>\n",
       "    </tr>\n",
       "  </thead>\n",
       "  <tbody>\n",
       "    <tr>\n",
       "      <th>American Double / Imperial Stout</th>\n",
       "      <td>4.039084</td>\n",
       "    </tr>\n",
       "    <tr>\n",
       "      <th>American Double / Imperial IPA</th>\n",
       "      <td>4.019654</td>\n",
       "    </tr>\n",
       "    <tr>\n",
       "      <th>Russian Imperial Stout</th>\n",
       "      <td>4.016927</td>\n",
       "    </tr>\n",
       "    <tr>\n",
       "      <th>Saison / Farmhouse Ale</th>\n",
       "      <td>4.002174</td>\n",
       "    </tr>\n",
       "    <tr>\n",
       "      <th>Belgian Strong Pale Ale</th>\n",
       "      <td>3.965957</td>\n",
       "    </tr>\n",
       "    <tr>\n",
       "      <th>Belgian Strong Dark Ale</th>\n",
       "      <td>3.934363</td>\n",
       "    </tr>\n",
       "    <tr>\n",
       "      <th>American IPA</th>\n",
       "      <td>3.928117</td>\n",
       "    </tr>\n",
       "    <tr>\n",
       "      <th>Tripel</th>\n",
       "      <td>3.883838</td>\n",
       "    </tr>\n",
       "    <tr>\n",
       "      <th>American Porter</th>\n",
       "      <td>3.867069</td>\n",
       "    </tr>\n",
       "    <tr>\n",
       "      <th>American Amber / Red Ale</th>\n",
       "      <td>3.863487</td>\n",
       "    </tr>\n",
       "  </tbody>\n",
       "</table>\n",
       "</div>"
      ],
      "text/plain": [
       "                                  Review_Rating\n",
       "Style                                          \n",
       "American Double / Imperial Stout       4.039084\n",
       "American Double / Imperial IPA         4.019654\n",
       "Russian Imperial Stout                 4.016927\n",
       "Saison / Farmhouse Ale                 4.002174\n",
       "Belgian Strong Pale Ale                3.965957\n",
       "Belgian Strong Dark Ale                3.934363\n",
       "American IPA                           3.928117\n",
       "Tripel                                 3.883838\n",
       "American Porter                        3.867069\n",
       "American Amber / Red Ale               3.863487"
      ]
     },
     "execution_count": 61,
     "metadata": {},
     "output_type": "execute_result"
    }
   ],
   "source": [
    "average_review_type"
   ]
  },
  {
   "cell_type": "code",
   "execution_count": null,
   "id": "ee5d7f42",
   "metadata": {},
   "outputs": [],
   "source": []
  },
  {
   "cell_type": "code",
   "execution_count": 62,
   "id": "2dc63aa6",
   "metadata": {},
   "outputs": [
    {
     "name": "stdout",
     "output_type": "stream",
     "text": [
      "these are the top 10 highest rated beers: Index(['American Double / Imperial Stout', 'American Double / Imperial IPA',\n",
      "       'Russian Imperial Stout', 'Saison / Farmhouse Ale',\n",
      "       'Belgian Strong Pale Ale', 'Belgian Strong Dark Ale', 'American IPA',\n",
      "       'Tripel', 'American Porter', 'American Amber / Red Ale'],\n",
      "      dtype='object', name='Style')\n"
     ]
    }
   ],
   "source": [
    "print('these are the top 10 highest rated beers: {}'.format(average_review_type.index))\n",
    "\n",
    "# top_10_styles = ['American Wild Ale', 'Gueuze', 'Quadrupel (Quad)', 'Lambic - Unblended',\n",
    "#        'American Double / Imperial Stout', 'Russian Imperial Stout',\n",
    "#        'Weizenbock', 'American Double / Imperial IPA', 'Flanders Red Ale',\n",
    "#        'Rye Beer']"
   ]
  },
  {
   "cell_type": "markdown",
   "id": "81bbf167",
   "metadata": {},
   "source": [
    "# Use Boolean Indexing to Filter out all other beer styles "
   ]
  },
  {
   "cell_type": "code",
   "execution_count": 63,
   "id": "e7981f6c",
   "metadata": {},
   "outputs": [],
   "source": [
    "style_series = df2[\"Style\"]"
   ]
  },
  {
   "cell_type": "code",
   "execution_count": 64,
   "id": "3af6a9ad",
   "metadata": {},
   "outputs": [],
   "source": [
    "boolean_sub1 = (style_series == \"American Wild Ale\")\n",
    "boolean_sub2 = (style_series == \"Gueuze\")\n",
    "boolean_sub3 = (style_series == \"Quadrupel (Quad)\")\n",
    "boolean_sub4 = (style_series == \"Lambic - Unblended\")\n",
    "boolean_sub5 = (style_series == \"American Double / Imperial Stout\")\n",
    "boolean_sub6 = (style_series == \"Russian Imperial Stout\")\n",
    "boolean_sub7 = (style_series == \"Weizenbock\")\n",
    "boolean_sub8 = (style_series == \"American Double / Imperial IPA\")\n",
    "boolean_sub9 = (style_series == \"Flanders Red Ale\")\n",
    "boolean_sub10 = (style_series == \"Rye Beer\")\n",
    "\n"
   ]
  },
  {
   "cell_type": "code",
   "execution_count": 65,
   "id": "e0a9f7bb",
   "metadata": {},
   "outputs": [],
   "source": [
    "copy_sample1 = pd.DataFrame(df2[boolean_sub1])\n",
    "copy_sample2 = pd.DataFrame(df2[boolean_sub2])\n",
    "copy_sample3 = pd.DataFrame(df2[boolean_sub3])\n",
    "copy_sample4 = pd.DataFrame(df2[boolean_sub4])\n",
    "copy_sample5 = pd.DataFrame(df2[boolean_sub5])\n",
    "copy_sample6 = pd.DataFrame(df2[boolean_sub6])\n",
    "copy_sample7 = pd.DataFrame(df2[boolean_sub7])\n",
    "copy_sample8 = pd.DataFrame(df2[boolean_sub8])\n",
    "copy_sample9 = pd.DataFrame(df2[boolean_sub9])\n",
    "copy_sample10 = pd.DataFrame(df2[boolean_sub10])"
   ]
  },
  {
   "cell_type": "code",
   "execution_count": 66,
   "id": "04853150",
   "metadata": {},
   "outputs": [
    {
     "data": {
      "text/html": [
       "<div>\n",
       "<style scoped>\n",
       "    .dataframe tbody tr th:only-of-type {\n",
       "        vertical-align: middle;\n",
       "    }\n",
       "\n",
       "    .dataframe tbody tr th {\n",
       "        vertical-align: top;\n",
       "    }\n",
       "\n",
       "    .dataframe thead th {\n",
       "        text-align: right;\n",
       "    }\n",
       "</style>\n",
       "<table border=\"1\" class=\"dataframe\">\n",
       "  <thead>\n",
       "    <tr style=\"text-align: right;\">\n",
       "      <th></th>\n",
       "      <th>Review_Rating</th>\n",
       "      <th>ABV</th>\n",
       "      <th>Name</th>\n",
       "      <th>Style</th>\n",
       "    </tr>\n",
       "  </thead>\n",
       "  <tbody>\n",
       "    <tr>\n",
       "      <th>4978</th>\n",
       "      <td>4.5</td>\n",
       "      <td>10.0</td>\n",
       "      <td>Stone 10th Anniversary IPA</td>\n",
       "      <td>American Double / Imperial IPA</td>\n",
       "    </tr>\n",
       "    <tr>\n",
       "      <th>4979</th>\n",
       "      <td>4.0</td>\n",
       "      <td>9.0</td>\n",
       "      <td>Hop Henge Experimental IPA</td>\n",
       "      <td>American Double / Imperial IPA</td>\n",
       "    </tr>\n",
       "    <tr>\n",
       "      <th>4985</th>\n",
       "      <td>4.5</td>\n",
       "      <td>7.7</td>\n",
       "      <td>Stone Ruination IPA</td>\n",
       "      <td>American Double / Imperial IPA</td>\n",
       "    </tr>\n",
       "    <tr>\n",
       "      <th>4997</th>\n",
       "      <td>4.0</td>\n",
       "      <td>11.5</td>\n",
       "      <td>Double Dog Double Pale Ale</td>\n",
       "      <td>American Double / Imperial IPA</td>\n",
       "    </tr>\n",
       "    <tr>\n",
       "      <th>4999</th>\n",
       "      <td>4.0</td>\n",
       "      <td>10.0</td>\n",
       "      <td>Stoudt's Double IPA (India Pale Ale)</td>\n",
       "      <td>American Double / Imperial IPA</td>\n",
       "    </tr>\n",
       "  </tbody>\n",
       "</table>\n",
       "</div>"
      ],
      "text/plain": [
       "      Review_Rating   ABV                                  Name  \\\n",
       "4978            4.5  10.0            Stone 10th Anniversary IPA   \n",
       "4979            4.0   9.0            Hop Henge Experimental IPA   \n",
       "4985            4.5   7.7                   Stone Ruination IPA   \n",
       "4997            4.0  11.5            Double Dog Double Pale Ale   \n",
       "4999            4.0  10.0  Stoudt's Double IPA (India Pale Ale)   \n",
       "\n",
       "                               Style  \n",
       "4978  American Double / Imperial IPA  \n",
       "4979  American Double / Imperial IPA  \n",
       "4985  American Double / Imperial IPA  \n",
       "4997  American Double / Imperial IPA  \n",
       "4999  American Double / Imperial IPA  "
      ]
     },
     "execution_count": 66,
     "metadata": {},
     "output_type": "execute_result"
    }
   ],
   "source": [
    "final = pd.concat([copy_sample1, copy_sample2,copy_sample3,copy_sample4,copy_sample5,\n",
    "                   copy_sample6, copy_sample7, copy_sample8, copy_sample9, copy_sample10\n",
    "                  ])\n",
    "\n",
    "final.tail(5)"
   ]
  },
  {
   "cell_type": "code",
   "execution_count": 69,
   "id": "61ce7353",
   "metadata": {},
   "outputs": [],
   "source": [
    "data2 = dict(Review_Rating = final[\"Review_Rating\"],\n",
    "            ABV = final[\"ABV\"],\n",
    "            Name = final[\"Name\"],\n",
    "            Style = final[\"Style\"]\n",
    ")\n",
    "\n",
    "plot2 = pd.DataFrame(data2)\n",
    "plot2['Name'] = plot2['Name'].astype(\"string\")\n",
    "plot2['Style'] = plot2['Style'].astype(\"string\")\n",
    "\n",
    "\n",
    "# plot_sample2.columns"
   ]
  },
  {
   "cell_type": "code",
   "execution_count": 71,
   "id": "0612758c",
   "metadata": {},
   "outputs": [
    {
     "name": "stdout",
     "output_type": "stream",
     "text": [
      "5000\n"
     ]
    }
   ],
   "source": [
    "plot_sample2 = plot2.sample(5000)"
   ]
  },
  {
   "cell_type": "code",
   "execution_count": 72,
   "id": "785c25f3",
   "metadata": {
    "scrolled": true
   },
   "outputs": [
    {
     "data": {
      "text/html": [
       "<div>\n",
       "<style scoped>\n",
       "    .dataframe tbody tr th:only-of-type {\n",
       "        vertical-align: middle;\n",
       "    }\n",
       "\n",
       "    .dataframe tbody tr th {\n",
       "        vertical-align: top;\n",
       "    }\n",
       "\n",
       "    .dataframe thead th {\n",
       "        text-align: right;\n",
       "    }\n",
       "</style>\n",
       "<table border=\"1\" class=\"dataframe\">\n",
       "  <thead>\n",
       "    <tr style=\"text-align: right;\">\n",
       "      <th></th>\n",
       "      <th>Review_Rating</th>\n",
       "      <th>ABV</th>\n",
       "      <th>Name</th>\n",
       "      <th>Style</th>\n",
       "    </tr>\n",
       "  </thead>\n",
       "  <tbody>\n",
       "    <tr>\n",
       "      <th>3103</th>\n",
       "      <td>4.0</td>\n",
       "      <td>8.2</td>\n",
       "      <td>Schneider Aventinus</td>\n",
       "      <td>Weizenbock</td>\n",
       "    </tr>\n",
       "    <tr>\n",
       "      <th>1128</th>\n",
       "      <td>4.0</td>\n",
       "      <td>9.0</td>\n",
       "      <td>90 Minute IPA</td>\n",
       "      <td>American Double / Imperial IPA</td>\n",
       "    </tr>\n",
       "    <tr>\n",
       "      <th>1376</th>\n",
       "      <td>4.0</td>\n",
       "      <td>9.4</td>\n",
       "      <td>Green Flash Imperial India Pale Ale</td>\n",
       "      <td>American Double / Imperial IPA</td>\n",
       "    </tr>\n",
       "    <tr>\n",
       "      <th>2023</th>\n",
       "      <td>3.0</td>\n",
       "      <td>16.8</td>\n",
       "      <td>Mephistopheles' Stout</td>\n",
       "      <td>American Double / Imperial Stout</td>\n",
       "    </tr>\n",
       "    <tr>\n",
       "      <th>2735</th>\n",
       "      <td>4.5</td>\n",
       "      <td>9.5</td>\n",
       "      <td>Imperial Eclipse Stout - Elijah Craig (12 Year)</td>\n",
       "      <td>American Double / Imperial Stout</td>\n",
       "    </tr>\n",
       "    <tr>\n",
       "      <th>1525</th>\n",
       "      <td>2.5</td>\n",
       "      <td>8.4</td>\n",
       "      <td>IPA2 (Double India Pale Ale)</td>\n",
       "      <td>American Double / Imperial IPA</td>\n",
       "    </tr>\n",
       "    <tr>\n",
       "      <th>2156</th>\n",
       "      <td>4.0</td>\n",
       "      <td>8.5</td>\n",
       "      <td>Hop Wallop</td>\n",
       "      <td>American Double / Imperial IPA</td>\n",
       "    </tr>\n",
       "    <tr>\n",
       "      <th>2038</th>\n",
       "      <td>4.5</td>\n",
       "      <td>6.0</td>\n",
       "      <td>Oude Gueuze</td>\n",
       "      <td>Gueuze</td>\n",
       "    </tr>\n",
       "    <tr>\n",
       "      <th>801</th>\n",
       "      <td>3.0</td>\n",
       "      <td>9.0</td>\n",
       "      <td>Stoudt's Fat Dog (Imperial Oatmeal Stout)</td>\n",
       "      <td>American Double / Imperial Stout</td>\n",
       "    </tr>\n",
       "    <tr>\n",
       "      <th>3709</th>\n",
       "      <td>4.0</td>\n",
       "      <td>10.0</td>\n",
       "      <td>Robert Johnson's Hellhound On My Ale</td>\n",
       "      <td>American Double / Imperial IPA</td>\n",
       "    </tr>\n",
       "  </tbody>\n",
       "</table>\n",
       "</div>"
      ],
      "text/plain": [
       "      Review_Rating   ABV                                             Name  \\\n",
       "3103            4.0   8.2                              Schneider Aventinus   \n",
       "1128            4.0   9.0                                    90 Minute IPA   \n",
       "1376            4.0   9.4              Green Flash Imperial India Pale Ale   \n",
       "2023            3.0  16.8                            Mephistopheles' Stout   \n",
       "2735            4.5   9.5  Imperial Eclipse Stout - Elijah Craig (12 Year)   \n",
       "1525            2.5   8.4                     IPA2 (Double India Pale Ale)   \n",
       "2156            4.0   8.5                                       Hop Wallop   \n",
       "2038            4.5   6.0                                      Oude Gueuze   \n",
       "801             3.0   9.0        Stoudt's Fat Dog (Imperial Oatmeal Stout)   \n",
       "3709            4.0  10.0             Robert Johnson's Hellhound On My Ale   \n",
       "\n",
       "                                 Style  \n",
       "3103                        Weizenbock  \n",
       "1128    American Double / Imperial IPA  \n",
       "1376    American Double / Imperial IPA  \n",
       "2023  American Double / Imperial Stout  \n",
       "2735  American Double / Imperial Stout  \n",
       "1525    American Double / Imperial IPA  \n",
       "2156    American Double / Imperial IPA  \n",
       "2038                            Gueuze  \n",
       "801   American Double / Imperial Stout  \n",
       "3709    American Double / Imperial IPA  "
      ]
     },
     "execution_count": 72,
     "metadata": {},
     "output_type": "execute_result"
    }
   ],
   "source": [
    "plot_sample2.head(10)\n"
   ]
  },
  {
   "cell_type": "code",
   "execution_count": 73,
   "id": "06b341f4",
   "metadata": {},
   "outputs": [],
   "source": [
    "# plot_sample2.to_csv('reviews.csv')"
   ]
  },
  {
   "cell_type": "code",
   "execution_count": 74,
   "id": "e7eef3d2",
   "metadata": {},
   "outputs": [],
   "source": [
    "\n",
    "# import plotly.express as px\n",
    "\n",
    "app = Dash()\n",
    "\n",
    "\n",
    "app.layout = html.Div([\n",
    "    html.H4('Beer Ratings for Different Styles of Beer Filtered by ABV'),\n",
    "    dcc.Graph(id=\"scatter-plot\"),\n",
    "    html.P(\"Filter by ABV:\"),\n",
    "    dcc.RangeSlider(\n",
    "        id='range-slider',\n",
    "        min=0, max=18, step=1,\n",
    "        marks={0: '0',2:'2', 4: '4',6:'6', 8:'8',10:'10',12:'12', 14:'14', 16: '16',18:'18'},\n",
    "        value=[2, 16]\n",
    "    ),\n",
    "])\n",
    "\n",
    "\n",
    "@app.callback(\n",
    "    Output(\"scatter-plot\", \"figure\"), \n",
    "    Input(\"range-slider\", \"value\"))\n",
    "def update_bar_chart(slider_range):\n",
    "    df = plot_sample2 \n",
    "    low, high = slider_range\n",
    "    mask = (df['ABV'] > low) & (df['ABV'] < high)\n",
    "    \n",
    "    fig = px.scatter(\n",
    "        df[mask], x=\"ABV\", y=\"Review_Rating\", \n",
    "        color=\"Style\", size='Review_Rating', \n",
    "        hover_data=['Name'])\n",
    "    return fig\n"
   ]
  },
  {
   "cell_type": "code",
   "execution_count": null,
   "id": "dbca6b09",
   "metadata": {
    "scrolled": true
   },
   "outputs": [
    {
     "name": "stdout",
     "output_type": "stream",
     "text": [
      "Dash is running on http://127.0.0.1:8050/\n",
      "\n",
      "Dash is running on http://127.0.0.1:8050/\n",
      "\n",
      " * Serving Flask app '__main__' (lazy loading)\n",
      " * Environment: production\n",
      "\u001b[31m   WARNING: This is a development server. Do not use it in a production deployment.\u001b[0m\n",
      "\u001b[2m   Use a production WSGI server instead.\u001b[0m\n",
      " * Debug mode: on\n"
     ]
    }
   ],
   "source": [
    "if __name__ == '__main__':\n",
    "    app.run_server(debug=True, use_reloader=False)"
   ]
  },
  {
   "cell_type": "code",
   "execution_count": 21,
   "id": "9d09020f",
   "metadata": {},
   "outputs": [],
   "source": []
  },
  {
   "cell_type": "code",
   "execution_count": 22,
   "id": "e1c0d549",
   "metadata": {
    "scrolled": true
   },
   "outputs": [],
   "source": [
    "# ! git add ABV Rating Analysis.ipynb"
   ]
  },
  {
   "cell_type": "code",
   "execution_count": 23,
   "id": "c77b6c1b",
   "metadata": {},
   "outputs": [],
   "source": [
    "# ! git commit -m \"test first commit\""
   ]
  },
  {
   "cell_type": "code",
   "execution_count": null,
   "id": "2b24c0f0",
   "metadata": {},
   "outputs": [],
   "source": [
    "# ! git remote add origin https://github.com/Jsreens/Beer_ABV_Review_Dash.git"
   ]
  },
  {
   "cell_type": "code",
   "execution_count": null,
   "id": "58972ebb",
   "metadata": {},
   "outputs": [],
   "source": [
    "# ! git remote -v"
   ]
  },
  {
   "cell_type": "code",
   "execution_count": null,
   "id": "e806125e",
   "metadata": {},
   "outputs": [],
   "source": []
  },
  {
   "cell_type": "code",
   "execution_count": null,
   "id": "183447cf",
   "metadata": {},
   "outputs": [],
   "source": [
    "# ! git branch -M main\n"
   ]
  },
  {
   "cell_type": "code",
   "execution_count": null,
   "id": "64f9061c",
   "metadata": {},
   "outputs": [],
   "source": [
    "# ! git remote show origin"
   ]
  },
  {
   "cell_type": "code",
   "execution_count": null,
   "id": "249b21a1",
   "metadata": {},
   "outputs": [],
   "source": [
    "# ! git push -u origin main"
   ]
  },
  {
   "cell_type": "code",
   "execution_count": null,
   "id": "6ba9c4b6",
   "metadata": {},
   "outputs": [],
   "source": []
  },
  {
   "cell_type": "code",
   "execution_count": null,
   "id": "76db4b22",
   "metadata": {},
   "outputs": [],
   "source": []
  },
  {
   "cell_type": "code",
   "execution_count": null,
   "id": "35b606ff",
   "metadata": {},
   "outputs": [],
   "source": []
  },
  {
   "cell_type": "code",
   "execution_count": null,
   "id": "78237b67",
   "metadata": {},
   "outputs": [],
   "source": []
  },
  {
   "cell_type": "code",
   "execution_count": null,
   "id": "47b6ab0f",
   "metadata": {},
   "outputs": [],
   "source": []
  }
 ],
 "metadata": {
  "kernelspec": {
   "display_name": "Python 3 (ipykernel)",
   "language": "python",
   "name": "python3"
  },
  "language_info": {
   "codemirror_mode": {
    "name": "ipython",
    "version": 3
   },
   "file_extension": ".py",
   "mimetype": "text/x-python",
   "name": "python",
   "nbconvert_exporter": "python",
   "pygments_lexer": "ipython3",
   "version": "3.8.13"
  }
 },
 "nbformat": 4,
 "nbformat_minor": 5
}
